{
 "cells": [
  {
   "cell_type": "markdown",
   "metadata": {},
   "source": [
    "# IMPORT LIBRARIES"
   ]
  },
  {
   "cell_type": "code",
   "execution_count": 115,
   "metadata": {},
   "outputs": [],
   "source": [
    "#---------------------------------------------------------------------------------------------------------------------------\n",
    "# Vijay Jagpal\n",
    "# National charity client - Python machine learning project \n",
    "#---------------------------------------------------------------------------------------------------------------------------\n",
    "# Modules needed\n",
    "import sys\n",
    "# scipy  for statistics\n",
    "import scipy\n",
    "# numpy for array, matrix and vector calculations\n",
    "# work horses of tables (dataframe) and arrays\n",
    "import numpy as np\n",
    "# matplotlib for graphs\n",
    "import pandas as pd \n",
    "# scikit-learn for machine learning\n",
    "\n",
    "import sklearn\n",
    "from sklearn import datasets, linear_model\n",
    "\n",
    "# graphs \n",
    "from pandas.plotting import scatter_matrix\n",
    "import matplotlib.pyplot as plt\n",
    "\n",
    "# model selection\n",
    "from sklearn import model_selection\n",
    "\n",
    "# kpi: evaulating the performance of the model\n",
    "from sklearn.metrics import classification_report\n",
    "from sklearn.metrics import confusion_matrix\n",
    "from sklearn.metrics import accuracy_score, f1_score, precision_score, recall_score\n",
    "\n",
    "# the stars of the show: the models\n",
    "from sklearn.linear_model import LogisticRegression\n",
    "from sklearn.tree import DecisionTreeClassifier\n",
    "from sklearn.neighbors import KNeighborsClassifier\n",
    "from sklearn.discriminant_analysis import LinearDiscriminantAnalysis\n",
    "from sklearn.naive_bayes import GaussianNB\n",
    "from sklearn.svm import SVC\n",
    "# Machine Learning Algorithm\n",
    "from sklearn.ensemble import RandomForestClassifier\n",
    "\n",
    "#------------------------------------------------------------------------------------------------\n",
    "\n",
    "# Test and train dataset split\n",
    "from sklearn import model_selection\n",
    "\n",
    "# switch off pandas warning \n",
    "#pd.options.mode.chained_assignment = None\n",
    "\n",
    "# used to write the model to a file\n",
    "from sklearn.externals import joblib"
   ]
  },
  {
   "cell_type": "markdown",
   "metadata": {},
   "source": [
    "We are using pandas to load the data. \n",
    "\n",
    "Note that we are specifying the names of each column when loading the data."
   ]
  },
  {
   "cell_type": "code",
   "execution_count": 59,
   "metadata": {},
   "outputs": [
    {
     "name": "stdout",
     "output_type": "stream",
     "text": [
      "                                0      1      2      3      4      5      6   \\\n",
      "TARGET_B                         0      1      0      0      0      0      0   \n",
      "TARGET_D                       NaN     10    NaN    NaN    NaN    NaN    NaN   \n",
      "CONTROL_NUMBER                   5     12     37     38     41     52     53   \n",
      "MONTHS_SINCE_ORIGIN            101    137    113     92    101    101     89   \n",
      "DONOR_AGE                       87     79     75    NaN     74     63     71   \n",
      "IN_HOUSE                         0      0      0      0      0      0      0   \n",
      "URBANICITY                       ?      R      S      U      R      U      R   \n",
      "SES                              ?      2      1      2      2      3      3   \n",
      "CLUSTER_CODE                     .     45     11     04     49     08     50   \n",
      "HOME_OWNER                       H      H      H      H      U      U      H   \n",
      "DONOR_GENDER                     M      M      F      F      F      M      M   \n",
      "INCOME_GROUP                     2      7      5      6      2      3      5   \n",
      "PUBLISHED_PHONE                  0      0      0      1      1      0      0   \n",
      "OVERLAY_SOURCE                   P      P      P      B      B      P      P   \n",
      "MOR_HIT_RATE                     0      0      0      0      8      0      0   \n",
      "WEALTH_RATING                  NaN      3      9      4      5    NaN      7   \n",
      "MEDIAN_HOME_VALUE              554    334   2388   1688    514    452    376   \n",
      "MEDIAN_HOUSEHOLD_INCOME        294    212    405    153    328    182    122   \n",
      "PCT_OWNER_OCCUPIED              76     72     63      3     90     51     68   \n",
      "PER_CAPITA_INCOME            11855  10385  30855  16342  12107   6851   5900   \n",
      "PCT_ATTRIBUTE1                   0      0      0      0      0      0      0   \n",
      "PCT_ATTRIBUTE2                   0     41     25     25     33     57     17   \n",
      "PCT_ATTRIBUTE3                   0     21     26     32     36     38     11   \n",
      "PCT_ATTRIBUTE4                   0     31     57     42     37     34     51   \n",
      "PEP_STAR                         1      1      1      1      0      0      1   \n",
      "RECENT_STAR_STATUS               0      1      1      0      0      0      4   \n",
      "RECENCY_STATUS_96NK              A      S      S      A      A      A      A   \n",
      "FREQUENCY_STATUS_97NK            1      2      3      3      1      4      1   \n",
      "RECENT_RESPONSE_PROP         0.067  0.235  0.409  0.474    0.1    0.2  0.167   \n",
      "RECENT_AVG_GIFT_AMT             15     15  21.67  13.44   17.5   8.33  18.67   \n",
      "RECENT_CARD_RESPONSE_PROP        0   0.25  0.545    0.4  0.111  0.125  0.273   \n",
      "RECENT_AVG_CARD_GIFT_AMT         0     15  22.67   13.5     10     10  18.67   \n",
      "RECENT_RESPONSE_COUNT            1      4      9      9      2      3      3   \n",
      "RECENT_CARD_RESPONSE_COUNT       0      2      6      4      1      1      3   \n",
      "MONTHS_SINCE_LAST_PROM_RESP     26     11     14     11     18     19     21   \n",
      "LIFETIME_CARD_PROM              19     32     44     31     30     22     29   \n",
      "LIFETIME_PROM                   45     90    119     96     83     59     72   \n",
      "LIFETIME_GIFT_AMOUNT           297    368    603    435    106    128    220   \n",
      "LIFETIME_GIFT_COUNT             35     25     36     37     12     22     20   \n",
      "LIFETIME_AVG_GIFT_AMT         8.49  14.72  16.75  11.76   8.83   5.82     11   \n",
      "LIFETIME_GIFT_RANGE             15     20     23     14     20      7     15   \n",
      "LIFETIME_MAX_GIFT_AMT           20     25     28     17     25     10     20   \n",
      "LIFETIME_MIN_GIFT_AMT            5      5      5      3      5      3      5   \n",
      "LAST_GIFT_AMT                   15     17     19     15     25     10     20   \n",
      "CARD_PROM_12                     5      7     11     11      6      9      7   \n",
      "NUMBER_PROM_12                  12     21     32     33     19     20     18   \n",
      "MONTHS_SINCE_LAST_GIFT          26      7      6      6     18     19     21   \n",
      "MONTHS_SINCE_FIRST_GIFT         92    122    105     92     92     91     91   \n",
      "FILE_AVG_GIFT                 8.49  14.72  16.75  11.76   8.83   5.82     11   \n",
      "FILE_CARD_GIFT                   7     12     16     12      3      6      8   \n",
      "\n",
      "                                7      8      9      10     11     12     13  \\\n",
      "TARGET_B                         1      0      1      0      0      0      0   \n",
      "TARGET_D                         5    NaN     16    NaN    NaN    NaN    NaN   \n",
      "CONTROL_NUMBER                  67     70     71     77    113    122    139   \n",
      "MONTHS_SINCE_ORIGIN             89     89    101    113    113     89    101   \n",
      "DONOR_AGE                       79     41     63    NaN    NaN    NaN    NaN   \n",
      "IN_HOUSE                         0      0      0      1      0      0      0   \n",
      "URBANICITY                       C      C      R      R      R      R      R   \n",
      "SES                              2      3      2      2      3      1      2   \n",
      "CLUSTER_CODE                    28     30     43     43     53     42     46   \n",
      "HOME_OWNER                       H      H      H      U      U      U      U   \n",
      "DONOR_GENDER                     F      F      F      F      F      F      F   \n",
      "INCOME_GROUP                     1      4      4    NaN    NaN    NaN    NaN   \n",
      "PUBLISHED_PHONE                  0      0      1      0      1      0      0   \n",
      "OVERLAY_SOURCE                   P      P      B      N      N      N      N   \n",
      "MOR_HIT_RATE                     0      0      0      0      0      0      0   \n",
      "WEALTH_RATING                  NaN    NaN    NaN      2    NaN    NaN    NaN   \n",
      "MEDIAN_HOME_VALUE             1004    361    399    119    168    770    655   \n",
      "MEDIAN_HOUSEHOLD_INCOME        189    180    307    179    163    256    219   \n",
      "PCT_OWNER_OCCUPIED              95     56     86     41     79     80     77   \n",
      "PER_CAPITA_INCOME            12667   8132  11428   6519   9042  13841  12671   \n",
      "PCT_ATTRIBUTE1                   3      2      1      0      0      0      0   \n",
      "PCT_ATTRIBUTE2                  44     51     33     43     33     32     46   \n",
      "PCT_ATTRIBUTE3                  49     45     33      0     22     19     24   \n",
      "PCT_ATTRIBUTE4                  50     45     29     70     43     39     53   \n",
      "PEP_STAR                         1      1      1      1      0      1      0   \n",
      "RECENT_STAR_STATUS               0      0      1      1      0      1      0   \n",
      "RECENCY_STATUS_96NK              A      A      S      S      A      S      A   \n",
      "FREQUENCY_STATUS_97NK            4      4      3      4      1      4      1   \n",
      "RECENT_RESPONSE_PROP           0.4  0.409  0.357  0.409  0.095  0.524  0.071   \n",
      "RECENT_AVG_GIFT_AMT              5      5    8.6   8.67     80    3.5     21   \n",
      "RECENT_CARD_RESPONSE_PROP    0.444  0.455  0.571  0.364  0.182    0.7      0   \n",
      "RECENT_AVG_CARD_GIFT_AMT         5      5    8.5      8     80    4.5      0   \n",
      "RECENT_RESPONSE_COUNT            8      9      5      9      2     11      1   \n",
      "RECENT_CARD_RESPONSE_COUNT       4      5      4      4      2      7      0   \n",
      "MONTHS_SINCE_LAST_PROM_RESP     12     17     11     15     20     15     26   \n",
      "LIFETIME_CARD_PROM              33     36     27     45     39     36     11   \n",
      "LIFETIME_PROM                   89     91     62    123     94     98     25   \n",
      "LIFETIME_GIFT_AMOUNT           101    171    150    273    516  100.5    103   \n",
      "LIFETIME_GIFT_COUNT             20     34     22     37     14     33      7   \n",
      "LIFETIME_AVG_GIFT_AMT         5.05   5.03   6.82   7.38  36.86   3.05  14.71   \n",
      "LIFETIME_GIFT_RANGE              4      4      8      7     80     14     16   \n",
      "LIFETIME_MAX_GIFT_AMT            7      7     11     10     85     15     21   \n",
      "LIFETIME_MIN_GIFT_AMT            3      3      3      3      5      1      5   \n",
      "LAST_GIFT_AMT                    5      5      8     10     85      2     21   \n",
      "CARD_PROM_12                     9     11     11     11      9     11      4   \n",
      "NUMBER_PROM_12                  24     25     27     35     21     27     10   \n",
      "MONTHS_SINCE_LAST_GIFT           9     17      9      4     20     15     26   \n",
      "MONTHS_SINCE_FIRST_GIFT         91     91     91    110    105     91     90   \n",
      "FILE_AVG_GIFT                 5.05   5.03   6.82   7.38  36.86   3.05  14.71   \n",
      "FILE_CARD_GIFT                   8     14     13     14      6     16      2   \n",
      "\n",
      "                                14  \n",
      "TARGET_B                         1  \n",
      "TARGET_D                         3  \n",
      "CONTROL_NUMBER                 142  \n",
      "MONTHS_SINCE_ORIGIN            137  \n",
      "DONOR_AGE                      NaN  \n",
      "IN_HOUSE                         0  \n",
      "URBANICITY                       R  \n",
      "SES                              2  \n",
      "CLUSTER_CODE                    43  \n",
      "HOME_OWNER                       U  \n",
      "DONOR_GENDER                     F  \n",
      "INCOME_GROUP                   NaN  \n",
      "PUBLISHED_PHONE                  1  \n",
      "OVERLAY_SOURCE                   N  \n",
      "MOR_HIT_RATE                     0  \n",
      "WEALTH_RATING                    1  \n",
      "MEDIAN_HOME_VALUE              475  \n",
      "MEDIAN_HOUSEHOLD_INCOME        227  \n",
      "PCT_OWNER_OCCUPIED              70  \n",
      "PER_CAPITA_INCOME            10221  \n",
      "PCT_ATTRIBUTE1                   0  \n",
      "PCT_ATTRIBUTE2                  30  \n",
      "PCT_ATTRIBUTE3                  33  \n",
      "PCT_ATTRIBUTE4                  29  \n",
      "PEP_STAR                         1  \n",
      "RECENT_STAR_STATUS               1  \n",
      "RECENCY_STATUS_96NK              S  \n",
      "FREQUENCY_STATUS_97NK            2  \n",
      "RECENT_RESPONSE_PROP          0.35  \n",
      "RECENT_AVG_GIFT_AMT             10  \n",
      "RECENT_CARD_RESPONSE_PROP      0.5  \n",
      "RECENT_AVG_CARD_GIFT_AMT        10  \n",
      "RECENT_RESPONSE_COUNT            7  \n",
      "RECENT_CARD_RESPONSE_COUNT       5  \n",
      "MONTHS_SINCE_LAST_PROM_RESP     22  \n",
      "LIFETIME_CARD_PROM              44  \n",
      "LIFETIME_PROM                  110  \n",
      "LIFETIME_GIFT_AMOUNT           186  \n",
      "LIFETIME_GIFT_COUNT             31  \n",
      "LIFETIME_AVG_GIFT_AMT            6  \n",
      "LIFETIME_GIFT_RANGE              9  \n",
      "LIFETIME_MAX_GIFT_AMT           11  \n",
      "LIFETIME_MIN_GIFT_AMT            2  \n",
      "LAST_GIFT_AMT                   10  \n",
      "CARD_PROM_12                     9  \n",
      "NUMBER_PROM_12                  22  \n",
      "MONTHS_SINCE_LAST_GIFT          22  \n",
      "MONTHS_SINCE_FIRST_GIFT        129  \n",
      "FILE_AVG_GIFT                    6  \n",
      "FILE_CARD_GIFT                  14  \n"
     ]
    }
   ],
   "source": [
    "#Read the Donor Raw data_ML \n",
    "#data is a dataframe \n",
    "data = pd.read_csv('C:\\\\Users\\VKJag\\Desktop\\Donor Raw Data_ML.csv')\n",
    "#head\n",
    "print(data.head(15).transpose())"
   ]
  },
  {
   "cell_type": "code",
   "execution_count": 116,
   "metadata": {},
   "outputs": [
    {
     "name": "stdout",
     "output_type": "stream",
     "text": [
      "Index(['TARGET_B', 'TARGET_D', 'CONTROL_NUMBER', 'MONTHS_SINCE_ORIGIN',\n",
      "       'DONOR_AGE', 'IN_HOUSE', 'URBANICITY', 'SES', 'CLUSTER_CODE',\n",
      "       'HOME_OWNER', 'DONOR_GENDER', 'INCOME_GROUP', 'PUBLISHED_PHONE',\n",
      "       'OVERLAY_SOURCE', 'MOR_HIT_RATE', 'WEALTH_RATING', 'MEDIAN_HOME_VALUE',\n",
      "       'MEDIAN_HOUSEHOLD_INCOME', 'PCT_OWNER_OCCUPIED', 'PER_CAPITA_INCOME',\n",
      "       'PCT_ATTRIBUTE1', 'PCT_ATTRIBUTE2', 'PCT_ATTRIBUTE3', 'PCT_ATTRIBUTE4',\n",
      "       'PEP_STAR', 'RECENT_STAR_STATUS', 'RECENCY_STATUS_96NK',\n",
      "       'FREQUENCY_STATUS_97NK', 'RECENT_RESPONSE_PROP', 'RECENT_AVG_GIFT_AMT',\n",
      "       'RECENT_CARD_RESPONSE_PROP', 'RECENT_AVG_CARD_GIFT_AMT',\n",
      "       'RECENT_RESPONSE_COUNT', 'RECENT_CARD_RESPONSE_COUNT',\n",
      "       'MONTHS_SINCE_LAST_PROM_RESP', 'LIFETIME_CARD_PROM', 'LIFETIME_PROM',\n",
      "       'LIFETIME_GIFT_AMOUNT', 'LIFETIME_GIFT_COUNT', 'LIFETIME_AVG_GIFT_AMT',\n",
      "       'LIFETIME_GIFT_RANGE', 'LIFETIME_MAX_GIFT_AMT', 'LIFETIME_MIN_GIFT_AMT',\n",
      "       'LAST_GIFT_AMT', 'CARD_PROM_12', 'NUMBER_PROM_12',\n",
      "       'MONTHS_SINCE_LAST_GIFT', 'MONTHS_SINCE_FIRST_GIFT', 'FILE_AVG_GIFT',\n",
      "       'FILE_CARD_GIFT'],\n",
      "      dtype='object')\n"
     ]
    }
   ],
   "source": [
    "# columns\n",
    "print(data.columns)"
   ]
  },
  {
   "cell_type": "markdown",
   "metadata": {},
   "source": [
    "We are extracting variables possibly affecting target variable FREQUENCY_STATUS_97K. This variable indicates the    \n",
    "donations frequency of the donor as at a given point in time i.e. June 1997.\n",
    "\n",
    "Check for missing values\n",
    "\n",
    "This is the best place to deal with data and missing data."
   ]
  },
  {
   "cell_type": "code",
   "execution_count": 117,
   "metadata": {},
   "outputs": [
    {
     "name": "stdout",
     "output_type": "stream",
     "text": [
      "    PER_CAPITA_INCOME  MEDIAN_HOUSEHOLD_INCOME  RECENT_AVG_GIFT_AMT  \\\n",
      "0               11855                      294                15.00   \n",
      "1               10385                      212                15.00   \n",
      "2               30855                      405                21.67   \n",
      "3               16342                      153                13.44   \n",
      "4               12107                      328                17.50   \n",
      "5                6851                      182                 8.33   \n",
      "6                5900                      122                18.67   \n",
      "7               12667                      189                 5.00   \n",
      "8                8132                      180                 5.00   \n",
      "9               11428                      307                 8.60   \n",
      "10               6519                      179                 8.67   \n",
      "11               9042                      163                80.00   \n",
      "12              13841                      256                 3.50   \n",
      "13              12671                      219                21.00   \n",
      "14              10221                      227                10.00   \n",
      "15              12426                      299                 8.33   \n",
      "16              12208                      236                 9.64   \n",
      "17              13079                      255                16.25   \n",
      "18              19388                      240                10.83   \n",
      "19              13347                      340                11.57   \n",
      "\n",
      "    LAST_GIFT_AMT  LIFETIME_GIFT_AMOUNT  LIFETIME_GIFT_COUNT  \\\n",
      "0            15.0                 297.0                   35   \n",
      "1            17.0                 368.0                   25   \n",
      "2            19.0                 603.0                   36   \n",
      "3            15.0                 435.0                   37   \n",
      "4            25.0                 106.0                   12   \n",
      "5            10.0                 128.0                   22   \n",
      "6            20.0                 220.0                   20   \n",
      "7             5.0                 101.0                   20   \n",
      "8             5.0                 171.0                   34   \n",
      "9             8.0                 150.0                   22   \n",
      "10           10.0                 273.0                   37   \n",
      "11           85.0                 516.0                   14   \n",
      "12            2.0                 100.5                   33   \n",
      "13           21.0                 103.0                    7   \n",
      "14           10.0                 186.0                   31   \n",
      "15           10.0                 201.0                   33   \n",
      "16           15.0                 270.0                   29   \n",
      "17           15.0                 277.0                   24   \n",
      "18           11.0                 670.0                   76   \n",
      "19           10.0                 255.0                   26   \n",
      "\n",
      "    LIFETIME_AVG_GIFT_AMT SES  MOR_HIT_RATE  FREQUENCY_STATUS_97NK  \\\n",
      "0                    8.49   ?             0                      1   \n",
      "1                   14.72   2             0                      2   \n",
      "2                   16.75   1             0                      3   \n",
      "3                   11.76   2             0                      3   \n",
      "4                    8.83   2             8                      1   \n",
      "5                    5.82   3             0                      4   \n",
      "6                   11.00   3             0                      1   \n",
      "7                    5.05   2             0                      4   \n",
      "8                    5.03   3             0                      4   \n",
      "9                    6.82   2             0                      3   \n",
      "10                   7.38   2             0                      4   \n",
      "11                  36.86   3             0                      1   \n",
      "12                   3.05   1             0                      4   \n",
      "13                  14.71   2             0                      1   \n",
      "14                   6.00   2             0                      2   \n",
      "15                   6.09   ?            17                      2   \n",
      "16                   9.31   2            24                      4   \n",
      "17                  11.54   2             7                      1   \n",
      "18                   8.82   ?             0                      4   \n",
      "19                   9.81   2            32                      2   \n",
      "\n",
      "    RECENT_CARD_RESPONSE_COUNT  TARGET_B  \n",
      "0                            0         0  \n",
      "1                            2         1  \n",
      "2                            6         0  \n",
      "3                            4         0  \n",
      "4                            1         0  \n",
      "5                            1         0  \n",
      "6                            3         0  \n",
      "7                            4         1  \n",
      "8                            5         0  \n",
      "9                            4         1  \n",
      "10                           4         0  \n",
      "11                           2         0  \n",
      "12                           7         0  \n",
      "13                           0         0  \n",
      "14                           5         1  \n",
      "15                           1         0  \n",
      "16                           5         1  \n",
      "17                           2         0  \n",
      "18                           4         0  \n",
      "19                           3         0  \n"
     ]
    }
   ],
   "source": [
    "# Extract the donor data into a Dataframe to get an insight into the data\n",
    "column_list = ['PER_CAPITA_INCOME','MEDIAN_HOUSEHOLD_INCOME','RECENT_AVG_GIFT_AMT','LAST_GIFT_AMT','LIFETIME_GIFT_AMOUNT','LIFETIME_GIFT_COUNT','LIFETIME_AVG_GIFT_AMT','SES','MOR_HIT_RATE','FREQUENCY_STATUS_97NK','RECENT_CARD_RESPONSE_COUNT','TARGET_B']\n",
    "donor_data = data[column_list]\n",
    "#\n",
    "print(donor_data.head(20))"
   ]
  },
  {
   "cell_type": "code",
   "execution_count": 118,
   "metadata": {},
   "outputs": [
    {
     "name": "stdout",
     "output_type": "stream",
     "text": [
      "    CARD_PROM_12  NUMBER_PROM_12  TARGET_B\n",
      "0              5              12         0\n",
      "1              7              21         1\n",
      "2             11              32         0\n",
      "3             11              33         0\n",
      "4              6              19         0\n",
      "5              9              20         0\n",
      "6              7              18         0\n",
      "7              9              24         1\n",
      "8             11              25         0\n",
      "9             11              27         1\n",
      "10            11              35         0\n",
      "11             9              21         0\n",
      "12            11              27         0\n",
      "13             4              10         0\n",
      "14             9              22         1\n",
      "15             6              15         0\n",
      "16            11              29         1\n",
      "17            11              27         0\n",
      "18            10              28         0\n",
      "19             8              21         0\n"
     ]
    }
   ],
   "source": [
    "# Extract the donor data into a Dataframe to get an insight into the data\n",
    "column_list = ['CARD_PROM_12', 'NUMBER_PROM_12','TARGET_B']\n",
    "donor_data = data[column_list]\n",
    "#\n",
    "print(donor_data.head(20))"
   ]
  },
  {
   "cell_type": "code",
   "execution_count": 119,
   "metadata": {},
   "outputs": [
    {
     "name": "stdout",
     "output_type": "stream",
     "text": [
      "    FREQUENCY_STATUS_97NK  RECENT_CARD_RESPONSE_COUNT  TARGET_B\n",
      "0                       1                           0         0\n",
      "1                       2                           2         1\n",
      "2                       3                           6         0\n",
      "3                       3                           4         0\n",
      "4                       1                           1         0\n",
      "5                       4                           1         0\n",
      "6                       1                           3         0\n",
      "7                       4                           4         1\n",
      "8                       4                           5         0\n",
      "9                       3                           4         1\n",
      "10                      4                           4         0\n",
      "11                      1                           2         0\n",
      "12                      4                           7         0\n",
      "13                      1                           0         0\n",
      "14                      2                           5         1\n",
      "15                      2                           1         0\n",
      "16                      4                           5         1\n",
      "17                      1                           2         0\n",
      "18                      4                           4         0\n",
      "19                      2                           3         0\n"
     ]
    }
   ],
   "source": [
    "# Extract the donor data into a Dataframe to get an insight into the data\n",
    "column_list = ['FREQUENCY_STATUS_97NK','RECENT_CARD_RESPONSE_COUNT','TARGET_B']\n",
    "donor_data = data[column_list]\n",
    "#\n",
    "print(donor_data.head(20))"
   ]
  },
  {
   "cell_type": "markdown",
   "metadata": {},
   "source": [
    "# Summarise the Dataset\n",
    "\n",
    "We look at the data a few different ways:\n",
    "\n",
    "1. Dimensions of the dataset.\n",
    "2. Peek at the data itself.\n",
    "3. Statistical summary of all attributes.\n",
    "4. Breakdown of the data by the class variable.\n"
   ]
  },
  {
   "cell_type": "markdown",
   "metadata": {},
   "source": [
    "### 1. Dimensions of Dataset\n",
    "We get an idea of how many instances (rows) \n",
    "and how many attributes (columns) the data\n",
    "contains with the shape property."
   ]
  },
  {
   "cell_type": "code",
   "execution_count": 120,
   "metadata": {},
   "outputs": [
    {
     "name": "stdout",
     "output_type": "stream",
     "text": [
      "(19372, 3)\n",
      "['FREQUENCY_STATUS_97NK' 'RECENT_CARD_RESPONSE_COUNT' 'TARGET_B']\n"
     ]
    }
   ],
   "source": [
    "# shape\n",
    "print(donor_data.shape)\n",
    "print(donor_data.columns.values)\n",
    "#print(dataset.shape)\n",
    "#print(dataset.columns.values)"
   ]
  },
  {
   "cell_type": "markdown",
   "metadata": {},
   "source": [
    "### 2. Peek at the Data"
   ]
  },
  {
   "cell_type": "code",
   "execution_count": 121,
   "metadata": {},
   "outputs": [
    {
     "name": "stdout",
     "output_type": "stream",
     "text": [
      "    FREQUENCY_STATUS_97NK  RECENT_CARD_RESPONSE_COUNT  TARGET_B\n",
      "0                       1                           0         0\n",
      "1                       2                           2         1\n",
      "2                       3                           6         0\n",
      "3                       3                           4         0\n",
      "4                       1                           1         0\n",
      "5                       4                           1         0\n",
      "6                       1                           3         0\n",
      "7                       4                           4         1\n",
      "8                       4                           5         0\n",
      "9                       3                           4         1\n",
      "10                      4                           4         0\n",
      "11                      1                           2         0\n",
      "12                      4                           7         0\n",
      "13                      1                           0         0\n",
      "14                      2                           5         1\n",
      "15                      2                           1         0\n",
      "16                      4                           5         1\n",
      "17                      1                           2         0\n",
      "18                      4                           4         0\n",
      "19                      2                           3         0\n"
     ]
    }
   ],
   "source": [
    "# head\n",
    "print(donor_data.head(20))"
   ]
  },
  {
   "cell_type": "code",
   "execution_count": 122,
   "metadata": {},
   "outputs": [
    {
     "name": "stdout",
     "output_type": "stream",
     "text": [
      "                            0   1   2   3   4   5   6   7   8   9   10  11  \\\n",
      "FREQUENCY_STATUS_97NK        1   2   3   3   1   4   1   4   4   3   4   1   \n",
      "RECENT_CARD_RESPONSE_COUNT   0   2   6   4   1   1   3   4   5   4   4   2   \n",
      "TARGET_B                     0   1   0   0   0   0   0   1   0   1   0   0   \n",
      "\n",
      "                            12  13  14  15  16  17  18  19  \n",
      "FREQUENCY_STATUS_97NK        4   1   2   2   4   1   4   2  \n",
      "RECENT_CARD_RESPONSE_COUNT   7   0   5   1   5   2   4   3  \n",
      "TARGET_B                     0   0   1   0   1   0   0   0  \n"
     ]
    }
   ],
   "source": [
    "# transpose\n",
    "print(donor_data.head(20).transpose())"
   ]
  },
  {
   "cell_type": "markdown",
   "metadata": {},
   "source": [
    "### 3. Statistical Summary\n",
    "Take a look at a summary of each attribute.\n",
    "This includes the count, mean, the min and max values as well as some percentiles."
   ]
  },
  {
   "cell_type": "code",
   "execution_count": 123,
   "metadata": {},
   "outputs": [
    {
     "name": "stdout",
     "output_type": "stream",
     "text": [
      "                              count      mean       std  min  25%  50%   75%  \\\n",
      "FREQUENCY_STATUS_97NK       19372.0  1.983998  1.099346  1.0  1.0  2.0  3.00   \n",
      "RECENT_CARD_RESPONSE_COUNT  19372.0  1.730539  1.535521  0.0  1.0  1.0  2.00   \n",
      "TARGET_B                    19372.0  0.250000  0.433024  0.0  0.0  0.0  0.25   \n",
      "\n",
      "                            max  \n",
      "FREQUENCY_STATUS_97NK       4.0  \n",
      "RECENT_CARD_RESPONSE_COUNT  9.0  \n",
      "TARGET_B                    1.0  \n"
     ]
    }
   ],
   "source": [
    "# descriptions\n",
    "desc = donor_data.describe().transpose()\n",
    "print(desc)\n"
   ]
  },
  {
   "cell_type": "markdown",
   "metadata": {},
   "source": [
    "### 4 Class Distribution\n",
    "We take a look at the number of instances (rows) that belong to each class.\n",
    "We can view this as an absolute count."
   ]
  },
  {
   "cell_type": "code",
   "execution_count": 125,
   "metadata": {},
   "outputs": [
    {
     "ename": "NameError",
     "evalue": "name 'dataset' is not defined",
     "output_type": "error",
     "traceback": [
      "\u001b[1;31m---------------------------------------------------------------------------\u001b[0m",
      "\u001b[1;31mNameError\u001b[0m                                 Traceback (most recent call last)",
      "\u001b[1;32m<ipython-input-125-3de0f7914fb4>\u001b[0m in \u001b[0;36m<module>\u001b[1;34m()\u001b[0m\n\u001b[0;32m      1\u001b[0m \u001b[1;31m#here i'm creating an array\u001b[0m\u001b[1;33m\u001b[0m\u001b[1;33m\u001b[0m\u001b[0m\n\u001b[1;32m----> 2\u001b[1;33m \u001b[0mXs\u001b[0m \u001b[1;33m=\u001b[0m \u001b[0mdataset\u001b[0m\u001b[1;33m[\u001b[0m\u001b[1;33m[\u001b[0m \u001b[1;34m''\u001b[0m\u001b[1;33m]\u001b[0m\u001b[1;33m]\u001b[0m\u001b[1;33m.\u001b[0m\u001b[0mvalues\u001b[0m\u001b[1;33m\u001b[0m\u001b[0m\n\u001b[0m\u001b[0;32m      3\u001b[0m \u001b[1;31m#Xs = donor_data[['NUMBER_PROM_12']].values\u001b[0m\u001b[1;33m\u001b[0m\u001b[1;33m\u001b[0m\u001b[0m\n\u001b[0;32m      4\u001b[0m \u001b[1;31m#print(Xs)\u001b[0m\u001b[1;33m\u001b[0m\u001b[1;33m\u001b[0m\u001b[0m\n\u001b[0;32m      5\u001b[0m \u001b[1;33m\u001b[0m\u001b[0m\n",
      "\u001b[1;31mNameError\u001b[0m: name 'dataset' is not defined"
     ]
    }
   ],
   "source": [
    "#here i'm creating an array\n",
    "#Xs = dataset[[ '']].value\n",
    "Xs = donor_data[['NUMBER_PROM_12']].values\n",
    "#print(Xs)\n",
    "\n",
    "Ys = donor_data[['CARD_PROM_12']].values\n",
    "\n",
    "# MASSIVE WARNING\n",
    "# Y and X same length\n",
    "# Y and X same order\n",
    "print(len(Xs),len(Ys))"
   ]
  },
  {
   "cell_type": "code",
   "execution_count": 126,
   "metadata": {},
   "outputs": [
    {
     "name": "stdout",
     "output_type": "stream",
     "text": [
      "3874\n"
     ]
    }
   ],
   "source": [
    "#### Split the data into training/testing sets ####\n",
    "l =len (Xs)\n",
    "TwPct = round(l*20/100)\n",
    "print(TwPct)\n",
    "\n",
    "X_train = Xs[: -TwPct]  # 80%\n",
    "X_test = Xs[ -TwPct:]   # 20%\n",
    "# print(len(X_test))"
   ]
  },
  {
   "cell_type": "code",
   "execution_count": 127,
   "metadata": {},
   "outputs": [
    {
     "name": "stdout",
     "output_type": "stream",
     "text": [
      "Coefficients: \n",
      " [[0.15696662]]\n"
     ]
    },
    {
     "ename": "NameError",
     "evalue": "name 'mean_squared_error' is not defined",
     "output_type": "error",
     "traceback": [
      "\u001b[1;31m---------------------------------------------------------------------------\u001b[0m",
      "\u001b[1;31mNameError\u001b[0m                                 Traceback (most recent call last)",
      "\u001b[1;32m<ipython-input-127-0570d692e473>\u001b[0m in \u001b[0;36m<module>\u001b[1;34m()\u001b[0m\n\u001b[0;32m     19\u001b[0m \u001b[1;31m# The mean squared error\u001b[0m\u001b[1;33m\u001b[0m\u001b[1;33m\u001b[0m\u001b[0m\n\u001b[0;32m     20\u001b[0m print(\"Mean squared error: %.2f\"\n\u001b[1;32m---> 21\u001b[1;33m       % mean_squared_error(Y_test, Y_pred))\n\u001b[0m\u001b[0;32m     22\u001b[0m \u001b[1;31m# Explained variance score: 1 is perfect prediction\u001b[0m\u001b[1;33m\u001b[0m\u001b[1;33m\u001b[0m\u001b[0m\n\u001b[0;32m     23\u001b[0m \u001b[0mprint\u001b[0m\u001b[1;33m(\u001b[0m\u001b[1;34m'R-Square: %.2f'\u001b[0m \u001b[1;33m%\u001b[0m \u001b[0mr2_score\u001b[0m\u001b[1;33m(\u001b[0m\u001b[0mY_test\u001b[0m\u001b[1;33m,\u001b[0m \u001b[0mY_pred\u001b[0m\u001b[1;33m)\u001b[0m\u001b[1;33m)\u001b[0m\u001b[1;33m\u001b[0m\u001b[0m\n",
      "\u001b[1;31mNameError\u001b[0m: name 'mean_squared_error' is not defined"
     ]
    }
   ],
   "source": [
    "# Split the targets into training/testing sets\n",
    "Y_train =Ys[: -TwPct] #80%\n",
    "Y_test = Ys[-TwPct :] #20%\n",
    "\n",
    "# Create linear regression object -> it's a class object\n",
    "# sklearn.linear_model.LinearRegression(fit_intercept=True, normalize=False, copy_X=True, n_jobs=1)\n",
    "regr = linear_model.LinearRegression(fit_intercept=True) # options between the brackets\n",
    "\n",
    "# Train the model using the training sets\n",
    "# Learning happening\n",
    "regr.fit(X_train, Y_train)\n",
    "\n",
    "# Make predictions using the testing set\n",
    "Y_pred = regr.predict(X_test)\n",
    "#print(Y_pred)\n",
    "\n",
    "# The coefficients\n",
    "print('Coefficients: \\n', regr.coef_)\n",
    "# The mean squared error\n",
    "print(\"Mean squared error: %.2f\"\n",
    "      % mean_squared_error(Y_test, Y_pred))\n",
    "# Explained variance score: 1 is perfect prediction\n",
    "print('R-Square: %.2f' % r2_score(Y_test, Y_pred))\n",
    "\n",
    "# Let's go live now!\n",
    "\n",
    "# Here I deal with new data records / actual  data\n",
    "\n",
    "# 1 step is get data exatly has it was for learning\n",
    "# same columns, no missing values\n",
    "# X_new \n",
    "\n",
    "\n",
    "# 2nd step is to producce the target variable\n",
    "# Y_new = regr.predict(X_new)\n",
    "\n",
    "\n",
    "\n",
    "# Plot outputs only to use with one Xs variable\n",
    "\n",
    "plt.scatter(X_test, Y_test,  color='chartreuse')\n",
    "plt.plot(X_test, Y_pred, color='fuchsia', linewidth=3)\n",
    "\n",
    "plt.xticks(())\n",
    "plt.yticks(())"
   ]
  },
  {
   "cell_type": "code",
   "execution_count": 128,
   "metadata": {},
   "outputs": [
    {
     "ename": "KeyError",
     "evalue": "'LIFETIME_GIFT_AMOUNT'",
     "output_type": "error",
     "traceback": [
      "\u001b[1;31m---------------------------------------------------------------------------\u001b[0m",
      "\u001b[1;31mKeyError\u001b[0m                                  Traceback (most recent call last)",
      "\u001b[1;32m<ipython-input-128-cb83afc72cf0>\u001b[0m in \u001b[0;36m<module>\u001b[1;34m()\u001b[0m\n\u001b[0;32m      1\u001b[0m \u001b[1;31m# class distribution\u001b[0m\u001b[1;33m\u001b[0m\u001b[1;33m\u001b[0m\u001b[0m\n\u001b[1;32m----> 2\u001b[1;33m \u001b[0mprint\u001b[0m\u001b[1;33m(\u001b[0m\u001b[0mdonor_data\u001b[0m\u001b[1;33m.\u001b[0m\u001b[0mgroupby\u001b[0m\u001b[1;33m(\u001b[0m\u001b[1;34m'LIFETIME_GIFT_AMOUNT'\u001b[0m\u001b[1;33m)\u001b[0m\u001b[1;33m.\u001b[0m\u001b[0msize\u001b[0m\u001b[1;33m(\u001b[0m\u001b[1;33m)\u001b[0m\u001b[1;33m)\u001b[0m\u001b[1;33m\u001b[0m\u001b[0m\n\u001b[0m\u001b[0;32m      3\u001b[0m \u001b[1;31m#\u001b[0m\u001b[1;33m\u001b[0m\u001b[1;33m\u001b[0m\u001b[0m\n",
      "\u001b[1;32mC:\\ProgramData\\Anaconda3\\lib\\site-packages\\pandas\\core\\generic.py\u001b[0m in \u001b[0;36mgroupby\u001b[1;34m(self, by, axis, level, as_index, sort, group_keys, squeeze, observed, **kwargs)\u001b[0m\n\u001b[0;32m   6657\u001b[0m         return groupby(self, by=by, axis=axis, level=level, as_index=as_index,\n\u001b[0;32m   6658\u001b[0m                        \u001b[0msort\u001b[0m\u001b[1;33m=\u001b[0m\u001b[0msort\u001b[0m\u001b[1;33m,\u001b[0m \u001b[0mgroup_keys\u001b[0m\u001b[1;33m=\u001b[0m\u001b[0mgroup_keys\u001b[0m\u001b[1;33m,\u001b[0m \u001b[0msqueeze\u001b[0m\u001b[1;33m=\u001b[0m\u001b[0msqueeze\u001b[0m\u001b[1;33m,\u001b[0m\u001b[1;33m\u001b[0m\u001b[0m\n\u001b[1;32m-> 6659\u001b[1;33m                        observed=observed, **kwargs)\n\u001b[0m\u001b[0;32m   6660\u001b[0m \u001b[1;33m\u001b[0m\u001b[0m\n\u001b[0;32m   6661\u001b[0m     def asfreq(self, freq, method=None, how=None, normalize=False,\n",
      "\u001b[1;32mC:\\ProgramData\\Anaconda3\\lib\\site-packages\\pandas\\core\\groupby\\groupby.py\u001b[0m in \u001b[0;36mgroupby\u001b[1;34m(obj, by, **kwds)\u001b[0m\n\u001b[0;32m   2150\u001b[0m         \u001b[1;32mraise\u001b[0m \u001b[0mTypeError\u001b[0m\u001b[1;33m(\u001b[0m\u001b[1;34m'invalid type: %s'\u001b[0m \u001b[1;33m%\u001b[0m \u001b[0mtype\u001b[0m\u001b[1;33m(\u001b[0m\u001b[0mobj\u001b[0m\u001b[1;33m)\u001b[0m\u001b[1;33m)\u001b[0m\u001b[1;33m\u001b[0m\u001b[0m\n\u001b[0;32m   2151\u001b[0m \u001b[1;33m\u001b[0m\u001b[0m\n\u001b[1;32m-> 2152\u001b[1;33m     \u001b[1;32mreturn\u001b[0m \u001b[0mklass\u001b[0m\u001b[1;33m(\u001b[0m\u001b[0mobj\u001b[0m\u001b[1;33m,\u001b[0m \u001b[0mby\u001b[0m\u001b[1;33m,\u001b[0m \u001b[1;33m**\u001b[0m\u001b[0mkwds\u001b[0m\u001b[1;33m)\u001b[0m\u001b[1;33m\u001b[0m\u001b[0m\n\u001b[0m\u001b[0;32m   2153\u001b[0m \u001b[1;33m\u001b[0m\u001b[0m\n\u001b[0;32m   2154\u001b[0m \u001b[1;33m\u001b[0m\u001b[0m\n",
      "\u001b[1;32mC:\\ProgramData\\Anaconda3\\lib\\site-packages\\pandas\\core\\groupby\\groupby.py\u001b[0m in \u001b[0;36m__init__\u001b[1;34m(self, obj, keys, axis, level, grouper, exclusions, selection, as_index, sort, group_keys, squeeze, observed, **kwargs)\u001b[0m\n\u001b[0;32m    597\u001b[0m                                                     \u001b[0msort\u001b[0m\u001b[1;33m=\u001b[0m\u001b[0msort\u001b[0m\u001b[1;33m,\u001b[0m\u001b[1;33m\u001b[0m\u001b[0m\n\u001b[0;32m    598\u001b[0m                                                     \u001b[0mobserved\u001b[0m\u001b[1;33m=\u001b[0m\u001b[0mobserved\u001b[0m\u001b[1;33m,\u001b[0m\u001b[1;33m\u001b[0m\u001b[0m\n\u001b[1;32m--> 599\u001b[1;33m                                                     mutated=self.mutated)\n\u001b[0m\u001b[0;32m    600\u001b[0m \u001b[1;33m\u001b[0m\u001b[0m\n\u001b[0;32m    601\u001b[0m         \u001b[0mself\u001b[0m\u001b[1;33m.\u001b[0m\u001b[0mobj\u001b[0m \u001b[1;33m=\u001b[0m \u001b[0mobj\u001b[0m\u001b[1;33m\u001b[0m\u001b[0m\n",
      "\u001b[1;32mC:\\ProgramData\\Anaconda3\\lib\\site-packages\\pandas\\core\\groupby\\groupby.py\u001b[0m in \u001b[0;36m_get_grouper\u001b[1;34m(obj, key, axis, level, sort, observed, mutated, validate)\u001b[0m\n\u001b[0;32m   3289\u001b[0m                 \u001b[0min_axis\u001b[0m\u001b[1;33m,\u001b[0m \u001b[0mname\u001b[0m\u001b[1;33m,\u001b[0m \u001b[0mlevel\u001b[0m\u001b[1;33m,\u001b[0m \u001b[0mgpr\u001b[0m \u001b[1;33m=\u001b[0m \u001b[1;32mFalse\u001b[0m\u001b[1;33m,\u001b[0m \u001b[1;32mNone\u001b[0m\u001b[1;33m,\u001b[0m \u001b[0mgpr\u001b[0m\u001b[1;33m,\u001b[0m \u001b[1;32mNone\u001b[0m\u001b[1;33m\u001b[0m\u001b[0m\n\u001b[0;32m   3290\u001b[0m             \u001b[1;32melse\u001b[0m\u001b[1;33m:\u001b[0m\u001b[1;33m\u001b[0m\u001b[0m\n\u001b[1;32m-> 3291\u001b[1;33m                 \u001b[1;32mraise\u001b[0m \u001b[0mKeyError\u001b[0m\u001b[1;33m(\u001b[0m\u001b[0mgpr\u001b[0m\u001b[1;33m)\u001b[0m\u001b[1;33m\u001b[0m\u001b[0m\n\u001b[0m\u001b[0;32m   3292\u001b[0m         \u001b[1;32melif\u001b[0m \u001b[0misinstance\u001b[0m\u001b[1;33m(\u001b[0m\u001b[0mgpr\u001b[0m\u001b[1;33m,\u001b[0m \u001b[0mGrouper\u001b[0m\u001b[1;33m)\u001b[0m \u001b[1;32mand\u001b[0m \u001b[0mgpr\u001b[0m\u001b[1;33m.\u001b[0m\u001b[0mkey\u001b[0m \u001b[1;32mis\u001b[0m \u001b[1;32mnot\u001b[0m \u001b[1;32mNone\u001b[0m\u001b[1;33m:\u001b[0m\u001b[1;33m\u001b[0m\u001b[0m\n\u001b[0;32m   3293\u001b[0m             \u001b[1;31m# Add key to exclusions\u001b[0m\u001b[1;33m\u001b[0m\u001b[1;33m\u001b[0m\u001b[0m\n",
      "\u001b[1;31mKeyError\u001b[0m: 'LIFETIME_GIFT_AMOUNT'"
     ]
    }
   ],
   "source": [
    "# class distribution\n",
    "print(donor_data.groupby('LIFETIME_GIFT_AMOUNT').size())\n",
    "# "
   ]
  },
  {
   "cell_type": "markdown",
   "metadata": {},
   "source": [
    "# Data Visualisation\n",
    "\n",
    "We are going to look at two types of plots:\n",
    "\n",
    "Univariate plots to better understand each attribute.\n",
    "\n",
    "Multivariate plots to better understand the relationships between attributes."
   ]
  },
  {
   "cell_type": "markdown",
   "metadata": {},
   "source": [
    "### 1 Univariate Plots\n",
    "We plot each individual variable.\n",
    "This gives us a much clearer idea of the distribution of the input attributes:\n",
    "\n",
    "Given that the input variables are numeric, we can create box and whisker plots of each.\n",
    "box and whisker plots"
   ]
  },
  {
   "cell_type": "code",
   "execution_count": 129,
   "metadata": {},
   "outputs": [],
   "source": [
    "# drawing box plots, one graph with 4 subplots, i do not share axes\n",
    "#donor_data.plot(kind='box', subplots=True, layout=(2,2), sharex=False, sharey=False)\n",
    "#\n",
    "donor_data.plot\n",
    "#plt.boxplot([donor_data.plot])\n",
    "plt.ylabel\n",
    "plt.xlabel\n",
    "plt.show()"
   ]
  },
  {
   "cell_type": "code",
   "execution_count": 140,
   "metadata": {},
   "outputs": [
    {
     "ename": "NameError",
     "evalue": "name 'LIFETIME_GIFT_COUNT' is not defined",
     "output_type": "error",
     "traceback": [
      "\u001b[1;31m---------------------------------------------------------------------------\u001b[0m",
      "\u001b[1;31mNameError\u001b[0m                                 Traceback (most recent call last)",
      "\u001b[1;32m<ipython-input-140-5a1cb1c245a9>\u001b[0m in \u001b[0;36m<module>\u001b[1;34m()\u001b[0m\n\u001b[0;32m      1\u001b[0m \u001b[1;31m# the main axes is subplot(111) by default\u001b[0m\u001b[1;33m\u001b[0m\u001b[1;33m\u001b[0m\u001b[0m\n\u001b[0;32m      2\u001b[0m \u001b[0mdonor_data\u001b[0m\u001b[1;33m.\u001b[0m\u001b[0mplot\u001b[0m\u001b[1;33m\u001b[0m\u001b[0m\n\u001b[1;32m----> 3\u001b[1;33m \u001b[0mplt\u001b[0m\u001b[1;33m.\u001b[0m\u001b[0mxlabel\u001b[0m\u001b[1;33m(\u001b[0m\u001b[0mdonor_data\u001b[0m\u001b[1;33m(\u001b[0m\u001b[0mLIFETIME_GIFT_COUNT\u001b[0m\u001b[1;33m)\u001b[0m\u001b[1;33m)\u001b[0m\u001b[1;33m\u001b[0m\u001b[0m\n\u001b[0m\u001b[0;32m      4\u001b[0m \u001b[1;31m#plt.ylabel(donor_data(LIFETIME_GIFT_AMOUNT))\u001b[0m\u001b[1;33m\u001b[0m\u001b[1;33m\u001b[0m\u001b[0m\n\u001b[0;32m      5\u001b[0m \u001b[0mplt\u001b[0m\u001b[1;33m.\u001b[0m\u001b[0mtitle\u001b[0m\u001b[1;33m(\u001b[0m\u001b[1;34m'Test correllation'\u001b[0m\u001b[1;33m)\u001b[0m\u001b[1;33m\u001b[0m\u001b[0m\n",
      "\u001b[1;31mNameError\u001b[0m: name 'LIFETIME_GIFT_COUNT' is not defined"
     ]
    }
   ],
   "source": [
    "# the main axes is subplot(111) by default\n",
    "donor_data.plot\n",
    "#plt.xlabel(donor_data(LIFETIME_GIFT_COUNT))\n",
    "#plt.ylabel(donor_data(LIFETIME_GIFT_AMOUNT))\n",
    "plt.title('Test correllation')\n",
    "plt.show()\n"
   ]
  },
  {
   "cell_type": "code",
   "execution_count": 131,
   "metadata": {},
   "outputs": [
    {
     "data": {
      "image/png": "[encoded data removed]",
      "text/plain": [
       "<Figure size 432x288 with 4 Axes>"
      ]
     },
     "metadata": {},
     "output_type": "display_data"
    }
   ],
   "source": [
    "# We create a histogram for each input variable to get an idea of the distribution.\n",
    "\n",
    "# histograms\n",
    "donor_data.hist()\n",
    "plt.show()"
   ]
  },
  {
   "cell_type": "markdown",
   "metadata": {},
   "source": [
    "### 2 Multivariate Plots\n",
    "\n",
    "Now we look at the interactions between the variables.\n",
    "Let’s look at scatterplots of all pairs of attributes. \n",
    "This can be helpful to spot structured relationships between input variables."
   ]
  },
  {
   "cell_type": "code",
   "execution_count": 132,
   "metadata": {},
   "outputs": [
    {
     "data": {
      "image/png": "[encoded data removed]",
      "text/plain": [
       "<Figure size 432x288 with 9 Axes>"
      ]
     },
     "metadata": {},
     "output_type": "display_data"
    }
   ],
   "source": [
    "# scatter plot matrix\n",
    "scatter_matrix(donor_data)\n",
    "plt.show()\n",
    "\n",
    "# Note the diagonal grouping of some pairs of attributes. \n",
    "# This suggests a high correlation and a predictable relationship."
   ]
  },
  {
   "cell_type": "code",
   "execution_count": 133,
   "metadata": {},
   "outputs": [
    {
     "name": "stdout",
     "output_type": "stream",
     "text": [
      "                            FREQUENCY_STATUS_97NK  RECENT_CARD_RESPONSE_COUNT  \\\n",
      "FREQUENCY_STATUS_97NK                    1.000000                    0.634182   \n",
      "RECENT_CARD_RESPONSE_COUNT               0.634182                    1.000000   \n",
      "TARGET_B                                 0.137343                    0.126241   \n",
      "\n",
      "                            TARGET_B  \n",
      "FREQUENCY_STATUS_97NK       0.137343  \n",
      "RECENT_CARD_RESPONSE_COUNT  0.126241  \n",
      "TARGET_B                    1.000000  \n"
     ]
    }
   ],
   "source": [
    "print(donor_data.corr())"
   ]
  },
  {
   "cell_type": "markdown",
   "metadata": {},
   "source": [
    "We get an idea from the plots that some of the classes are partially linearly separable \n",
    "in some dimensions, so we are expecting generally good results.\n",
    "\n",
    "\n"
   ]
  },
  {
   "cell_type": "markdown",
   "metadata": {},
   "source": [
    "# Evaluate Some Algorithms\n",
    "\n",
    "Now we try to model the data and then estimate their accuracy on unseen / new data.\n",
    "\n",
    "We follow those steps:\n",
    "\n",
    "1 / Separate out a validation dataset.\n",
    "2 / Set-up the test harness to use 10-fold cross validation.\n",
    "3 / Build 7 different models to predict from \n",
    "4 / Select the best model."
   ]
  },
  {
   "cell_type": "markdown",
   "metadata": {},
   "source": [
    "### 1/ Create a Validation Dataset\n",
    "\n",
    "We need to evaluate the models we created.\n",
    "\n",
    "Later, we use statistical methods to estimate the accuracy \n",
    "of the models that we create on unseen data.\n",
    "\n",
    "We also want a more concrete estimate of the accuracy of the best model \n",
    "on unseen data by evaluating it on actual unseen data.\n",
    "\n",
    "To do that we are holding back some data that the algorithms will not get to see\n",
    "and we will use this data to get a second and independent idea \n",
    "of how accurate the best model might actually be.\n",
    "\n",
    "We will split the loaded dataset into two, 80% of which we will use to train our models\n",
    "and 20% that we will hold back as a validation dataset."
   ]
  },
  {
   "cell_type": "code",
   "execution_count": 134,
   "metadata": {},
   "outputs": [],
   "source": [
    "# Split-out validation dataset\n",
    "\n",
    "# here we convert the pandas dataframe into an array of figures\n",
    "array = donor_data.values\n",
    "# the dimensions of the donor parts\n",
    "\n",
    "# Note : for array [rows , columns] \n",
    "# rows separated from column by comma\n",
    "\n",
    "# features/ variables\n",
    "X = array[:,0:4]\n",
    "#print(X)\n",
    "# target:  what we want to predict or learn\n",
    "# Y needs to be one column only\n",
    "Y = array[:,1]\n",
    "#print(Y)\n",
    "# the percentage of the dataset in the test set\n",
    "validation_size = 0.20\n",
    "\n",
    "# the random seed a we are sampling randomly our data\n",
    "# that is we select the lines in the 2 different set randomly\n",
    "seed = 21\n",
    "\n",
    "# Split-out validation dataset\n",
    "X_train, X_validation, Y_train, Y_validation = model_selection.train_test_split(X, Y, test_size=validation_size, random_state=seed)\n",
    "\n",
    "# we now have X_train and Y_train for preparing models\n",
    "# and  X_validation and Y_validation we can use later.\n",
    "\n"
   ]
  },
  {
   "cell_type": "markdown",
   "metadata": {},
   "source": [
    "### 2. Test Harness\n",
    "\n",
    "We use 10-fold cross validation to estimate accuracy.\n",
    "This will split our dataset into 10 parts, train on 9 and test on 1 and repeat for all combinations of train-test splits."
   ]
  },
  {
   "cell_type": "code",
   "execution_count": 135,
   "metadata": {},
   "outputs": [],
   "source": [
    "# Test options and evaluation metric\n",
    "seed = 19\n",
    "scoring = 'accuracy'\n",
    "\n",
    "# We are using the metric of ‘accuracy‘ to evaluate models. This is a ratio of the number of correctly predicted instances in divided by the total number of instances in the dataset multiplied by 100 to give a percentage (e.g. 95% accurate). We will be using the scoring variable when we run build and evaluate each model next."
   ]
  },
  {
   "cell_type": "markdown",
   "metadata": {},
   "source": [
    "### 3. Build Models\n",
    "\n",
    "We don’t  really  know which algorithms would be good on this problem \n",
    "or what configurations to use. \n",
    "\n",
    "We evaluate 7 different algorithms used for classification:\n",
    "\n",
    "linear models: \n",
    "Logistic Regression (LR)\n",
    "Linear Discriminant Analysis (LDA)\n",
    "\n",
    "non linear models\n",
    "K-Nearest Neighbors (KNN)\n",
    "Classification and Regression Trees (CART)\n",
    "Gaussian Naive Bayes (NB)\n",
    "Support Vector Machines (SVM)\n",
    "RandomForestClassifier\n",
    "\n",
    "We reset the random number seed before each run to ensure \n",
    "that the evaluation of each algorithm is performed \n",
    "using exactly the same data splits. \n",
    "It ensures the results are directly comparable.\n",
    "\n"
   ]
  },
  {
   "cell_type": "code",
   "execution_count": 136,
   "metadata": {},
   "outputs": [],
   "source": [
    "# Spot Check Algorithms: a list of the models we are going to use\n",
    "models = []\n",
    "models.append(('LR', LogisticRegression())) # no correlation please /independent vars\n",
    "models.append(('LDA', LinearDiscriminantAnalysis())) # no correlation please /independent vars\n",
    "models.append(('KNN', KNeighborsClassifier())) #K Neighbours\n",
    "models.append(('CART', DecisionTreeClassifier())) # Decision Tree\n",
    "models.append(('NB', GaussianNB())) # Naive Bayes\n",
    "models.append(('SVM', SVC())) # Support Vector Machine SVM / no correlation please /independent vars\n",
    "models.append(('RF', RandomForestClassifier())) # anything goes\n"
   ]
  },
  {
   "cell_type": "code",
   "execution_count": 137,
   "metadata": {},
   "outputs": [
    {
     "name": "stdout",
     "output_type": "stream",
     "text": [
      "LR: 0.615601 (0.013407)\n",
      "LDA: 0.374329 (0.013745)\n"
     ]
    },
    {
     "name": "stderr",
     "output_type": "stream",
     "text": [
      "C:\\ProgramData\\Anaconda3\\lib\\site-packages\\sklearn\\discriminant_analysis.py:388: UserWarning: Variables are collinear.\n",
      "  warnings.warn(\"Variables are collinear.\")\n",
      "C:\\ProgramData\\Anaconda3\\lib\\site-packages\\sklearn\\discriminant_analysis.py:442: UserWarning: The priors do not sum to 1. Renormalizing\n",
      "  UserWarning)\n",
      "C:\\ProgramData\\Anaconda3\\lib\\site-packages\\sklearn\\discriminant_analysis.py:388: UserWarning: Variables are collinear.\n",
      "  warnings.warn(\"Variables are collinear.\")\n",
      "C:\\ProgramData\\Anaconda3\\lib\\site-packages\\sklearn\\discriminant_analysis.py:388: UserWarning: Variables are collinear.\n",
      "  warnings.warn(\"Variables are collinear.\")\n",
      "C:\\ProgramData\\Anaconda3\\lib\\site-packages\\sklearn\\discriminant_analysis.py:388: UserWarning: Variables are collinear.\n",
      "  warnings.warn(\"Variables are collinear.\")\n",
      "C:\\ProgramData\\Anaconda3\\lib\\site-packages\\sklearn\\discriminant_analysis.py:388: UserWarning: Variables are collinear.\n",
      "  warnings.warn(\"Variables are collinear.\")\n",
      "C:\\ProgramData\\Anaconda3\\lib\\site-packages\\sklearn\\discriminant_analysis.py:388: UserWarning: Variables are collinear.\n",
      "  warnings.warn(\"Variables are collinear.\")\n",
      "C:\\ProgramData\\Anaconda3\\lib\\site-packages\\sklearn\\discriminant_analysis.py:388: UserWarning: Variables are collinear.\n",
      "  warnings.warn(\"Variables are collinear.\")\n",
      "C:\\ProgramData\\Anaconda3\\lib\\site-packages\\sklearn\\discriminant_analysis.py:388: UserWarning: Variables are collinear.\n",
      "  warnings.warn(\"Variables are collinear.\")\n",
      "C:\\ProgramData\\Anaconda3\\lib\\site-packages\\sklearn\\discriminant_analysis.py:388: UserWarning: Variables are collinear.\n",
      "  warnings.warn(\"Variables are collinear.\")\n",
      "C:\\ProgramData\\Anaconda3\\lib\\site-packages\\sklearn\\discriminant_analysis.py:442: UserWarning: The priors do not sum to 1. Renormalizing\n",
      "  UserWarning)\n",
      "C:\\ProgramData\\Anaconda3\\lib\\site-packages\\sklearn\\discriminant_analysis.py:388: UserWarning: Variables are collinear.\n",
      "  warnings.warn(\"Variables are collinear.\")\n"
     ]
    },
    {
     "name": "stdout",
     "output_type": "stream",
     "text": [
      "KNN: 0.999935 (0.000194)\n",
      "CART: 1.000000 (0.000000)\n",
      "NB: 0.999935 (0.000194)\n",
      "SVM: 0.999935 (0.000194)\n",
      "RF: 0.999548 (0.000581)\n"
     ]
    }
   ],
   "source": [
    "# evaluate each model in turn\n",
    "results = []\n",
    "names = []\n",
    "for name, model in models:\n",
    "    kfold = model_selection.KFold(n_splits=10, random_state=seed)\n",
    "    cv_results = model_selection.cross_val_score(model, X_train, Y_train, cv=kfold, scoring=scoring)\n",
    "    results.append(cv_results)\n",
    "    names.append(name)\n",
    "    #print(name, \":\", cv_results.mean(), cv_results.std())\n",
    "    msg = \"%s: %f (%f)\" % (name, cv_results.mean(), cv_results.std())\n",
    "    print(msg)"
   ]
  },
  {
   "cell_type": "markdown",
   "metadata": {},
   "source": [
    "### 4. Select Best Model\n",
    "\n",
    "We now have 7 models and accuracy estimations for each. \n",
    "We need to compare the models to each other and select the most accurate.\n",
    "\n",
    "We can see that it looks like KNN has the largest estimated accuracy score.\n",
    "\n",
    "We can also create a plot of the model evaluation results and compare the spread \n",
    "and the mean accuracy of each model. \n",
    "\n",
    "There is a population of accuracy measures for each algorithm because each algorithm \n",
    "was evaluated 10 times (10 fold cross validation).\n"
   ]
  },
  {
   "cell_type": "code",
   "execution_count": 138,
   "metadata": {},
   "outputs": [
    {
     "data": {
      "image/png": "[encoded data removed]",
      "text/plain": [
       "<Figure size 432x288 with 1 Axes>"
      ]
     },
     "metadata": {},
     "output_type": "display_data"
    }
   ],
   "source": [
    "# Compare Algorithms\n",
    "fig = plt.figure()\n",
    "fig.suptitle('Algorithm Comparison')\n",
    "ax = fig.add_subplot(111)\n",
    "plt.boxplot(results)\n",
    "ax.set_xticklabels(names)\n",
    "plt.show()\n",
    "\n",
    "#You can see that the box and whisker plots are squashed at the top of the range, with many samples achieving 100% accuracy.\n"
   ]
  },
  {
   "cell_type": "markdown",
   "metadata": {},
   "source": [
    "### Make Predictions\n",
    "\n",
    "The SVM (support vecotr machine is the most accurate model that we tested. \n",
    "\n",
    "Now we want to get an idea of the accuracy of the model on our validation set.\n",
    "\n",
    "This will give us an independent final check on the accuracy of the best model.\n",
    "It is valuable to keep a validation set just in case you made a slip during training, \n",
    "such as overfitting to the training set or a data leak. Both will result in \n",
    "an overly optimistic result.\n",
    "\n",
    "We can run the KNN model directly on the validation set and summarize the \n",
    "results as a final accuracy score, a confusion matrix \n",
    "and a classification report."
   ]
  },
  {
   "cell_type": "code",
   "execution_count": 139,
   "metadata": {
    "scrolled": true
   },
   "outputs": [
    {
     "name": "stdout",
     "output_type": "stream",
     "text": [
      "Accuracy Score\n",
      "0.9997419354838709 \n",
      "\n",
      "Precision Score\n",
      "[1.         1.         1.         1.         1.         1.\n",
      " 1.         0.97674419 1.         1.        ] \n",
      "\n",
      "Confusion Matrix\n",
      "[[ 805    0    0    0    0    0    0    0    0    0]\n",
      " [   0 1293    0    0    0    0    0    0    0    0]\n",
      " [   0    0  843    0    0    0    0    0    0    0]\n",
      " [   0    0    0  474    0    0    0    0    0    0]\n",
      " [   0    0    0    0  224    0    0    0    0    0]\n",
      " [   0    0    0    0    0  119    0    0    0    0]\n",
      " [   0    0    0    0    0    0   58    0    0    0]\n",
      " [   0    0    0    0    0    0    0   42    0    0]\n",
      " [   0    0    0    0    0    0    0    1   12    0]\n",
      " [   0    0    0    0    0    0    0    0    0    4]] \n",
      "\n",
      "Classification Report\n",
      "             precision    recall  f1-score   support\n",
      "\n",
      "          0       1.00      1.00      1.00       805\n",
      "          1       1.00      1.00      1.00      1293\n",
      "          2       1.00      1.00      1.00       843\n",
      "          3       1.00      1.00      1.00       474\n",
      "          4       1.00      1.00      1.00       224\n",
      "          5       1.00      1.00      1.00       119\n",
      "          6       1.00      1.00      1.00        58\n",
      "          7       0.98      1.00      0.99        42\n",
      "          8       1.00      0.92      0.96        13\n",
      "          9       1.00      1.00      1.00         4\n",
      "\n",
      "avg / total       1.00      1.00      1.00      3875\n",
      " \n",
      "\n"
     ]
    }
   ],
   "source": [
    "# Make predictions on validation dataset\n",
    "# here we train the model SVM on our full training set\n",
    "\n",
    "# create a new model\n",
    "knn = KNeighborsClassifier()\n",
    "# we train it on the full training set\n",
    "knn.fit(X_train, Y_train)\n",
    "\n",
    "# Here the final countdown\n",
    "# here we apply the model on the testing test we separated earlier on\n",
    "predictions = knn.predict(X_validation)\n",
    "\n",
    "print('Accuracy Score')\n",
    "print(accuracy_score(Y_validation, predictions),'\\n')\n",
    "\n",
    "print('Precision Score')\n",
    "print(precision_score(Y_validation, predictions,average = None),'\\n')\n",
    "\n",
    "print('Confusion Matrix')\n",
    "print(confusion_matrix(Y_validation, predictions),'\\n')\n",
    "\n",
    "print('Classification Report')\n",
    "print(classification_report(Y_validation, predictions),'\\n')"
   ]
  },
  {
   "cell_type": "code",
   "execution_count": null,
   "metadata": {},
   "outputs": [],
   "source": [
    "# Let's go live now!\n",
    "\n",
    "# Here I deal with new data records / actual  data\n",
    "\n",
    "# 1 step is get data exatly has it was for learning\n",
    "# same columns, no missing values\n",
    "# X_new \n",
    "\n",
    "\n",
    "# 2nd step is to producce the target variable\n",
    "# Y_new = svc.predict(X_new)\n"
   ]
  },
  {
   "cell_type": "markdown",
   "metadata": {},
   "source": [
    "# We see that the accuracy is 0.9 or 90%. \n",
    "\n",
    "The confusion matrix provides an indication of the three errors made. \n",
    "\n",
    "Finally, the classification report provides a breakdown of each class by precision, recall, f1-score and support showing excellent results (granted the validation dataset was small)."
   ]
  },
  {
   "cell_type": "code",
   "execution_count": 141,
   "metadata": {},
   "outputs": [
    {
     "data": {
      "image/png": "[encoded data removed]",
      "text/plain": [
       "<Figure size 432x288 with 4 Axes>"
      ]
     },
     "metadata": {},
     "output_type": "display_data"
    }
   ],
   "source": [
    "# We create a histogram for each input variable to get an idea of the data distribution.\n",
    "# histograms\n",
    "donor_data.hist()\n",
    "\n",
    "plt.show()"
   ]
  },
  {
   "cell_type": "code",
   "execution_count": 148,
   "metadata": {},
   "outputs": [
    {
     "data": {
      "image/png": "[encoded data removed]",
      "text/plain": [
       "<Figure size 432x288 with 2 Axes>"
      ]
     },
     "metadata": {},
     "output_type": "display_data"
    }
   ],
   "source": [
    "# Extract the donor data into a Dataframe to get an insight into the data\n",
    "column_list = ['CARD_PROM_12', 'NUMBER_PROM_12']\n",
    "#column_list = ['PER_CAPITA_INCOME','MEDIAN_HOUSEHOLD_INCOME','RECENT_AVG_GIFT_AMT']\n",
    "donor_data = data[column_list]\n",
    "\n",
    "donor_data.hist()\n",
    "plt.show()"
   ]
  },
  {
   "cell_type": "code",
   "execution_count": 149,
   "metadata": {},
   "outputs": [
    {
     "data": {
      "image/png": "[encoded data removed]",
      "text/plain": [
       "<Figure size 432x288 with 2 Axes>"
      ]
     },
     "metadata": {},
     "output_type": "display_data"
    }
   ],
   "source": [
    "# Extract the donor data into a Dataframe to get an insight into the data\n",
    "column_list = ['CARD_PROM_12','LIFETIME_GIFT_COUNT' ]\n",
    "#column_list = ['PER_CAPITA_INCOME','MEDIAN_HOUSEHOLD_INCOME','RECENT_AVG_GIFT_AMT']\n",
    "donor_data = data[column_list]\n",
    "\n",
    "donor_data.hist()\n",
    "plt.show()"
   ]
  },
  {
   "cell_type": "code",
   "execution_count": 146,
   "metadata": {},
   "outputs": [
    {
     "data": {
      "image/png": "[encoded data removed]",
      "text/plain": [
       "<Figure size 432x288 with 2 Axes>"
      ]
     },
     "metadata": {},
     "output_type": "display_data"
    }
   ],
   "source": [
    "# Extract the donor data into a Dataframe to get an insight into the data\n",
    "column_list = ['PER_CAPITA_INCOME','MEDIAN_HOUSEHOLD_INCOME']\n",
    "donor_data = data[column_list]\n",
    "donor_data.hist()\n",
    "plt.show()"
   ]
  },
  {
   "cell_type": "code",
   "execution_count": 147,
   "metadata": {},
   "outputs": [
    {
     "data": {
      "image/png": "[encoded data removed]",
      "text/plain": [
       "<Figure size 432x288 with 2 Axes>"
      ]
     },
     "metadata": {},
     "output_type": "display_data"
    }
   ],
   "source": [
    "# Extract the donor data into a Dataframe to get an insight into the data\n",
    "column_list = ['RECENT_AVG_GIFT_AMT','LIFETIME_GIFT_AMOUNT']\n",
    "donor_data = data[column_list]\n",
    "donor_data.hist()\n",
    "plt.show()"
   ]
  },
  {
   "cell_type": "code",
   "execution_count": 152,
   "metadata": {},
   "outputs": [
    {
     "data": {
      "image/png": "[encoded data removed]",
      "text/plain": [
       "<Figure size 432x288 with 2 Axes>"
      ]
     },
     "metadata": {},
     "output_type": "display_data"
    }
   ],
   "source": [
    "# Extract the donor data into a Dataframe to get an insight into the data\n",
    "column_list = ['RECENT_AVG_GIFT_AMT','LIFETIME_GIFT_AMOUNT']\n",
    "donor_data = data[column_list]\n",
    "donor_data.hist()\n",
    "plt.show()"
   ]
  },
  {
   "cell_type": "code",
   "execution_count": 151,
   "metadata": {},
   "outputs": [
    {
     "data": {
      "image/png": "[encoded data removed]",
      "text/plain": [
       "<Figure size 432x288 with 1 Axes>"
      ]
     },
     "metadata": {},
     "output_type": "display_data"
    }
   ],
   "source": [
    "# Extract the donor data into a Dataframe to get an insight into the data\n",
    "column_list = ['DONOR_AGE','DONOR_GENDER']\n",
    "donor_data = data[column_list]\n",
    "donor_data.hist()\n",
    "plt.show()"
   ]
  },
  {
   "cell_type": "code",
   "execution_count": 154,
   "metadata": {},
   "outputs": [
    {
     "data": {
      "image/png": "[encoded data removed]",
      "text/plain": [
       "<Figure size 432x288 with 1 Axes>"
      ]
     },
     "metadata": {},
     "output_type": "display_data"
    }
   ],
   "source": [
    "# Extract the donor data into a Dataframe to get an insight into the data\n",
    "column_list = ['LAST_GIFT_AMT']\n",
    "donor_data = data[column_list]\n",
    "donor_data.hist()\n",
    "plt.show()"
   ]
  },
  {
   "cell_type": "markdown",
   "metadata": {},
   "source": [
    "'TARGET_B', 'TARGET_D', 'CONTROL_NUMBER', 'MONTHS_SINCE_ORIGIN',\n",
    "       'DONOR_AGE', 'IN_HOUSE', 'URBANICITY', 'SES', 'CLUSTER_CODE',\n",
    "       'HOME_OWNER', 'DONOR_GENDER', 'INCOME_GROUP', 'PUBLISHED_PHONE',\n",
    "       'OVERLAY_SOURCE', 'MOR_HIT_RATE', 'WEALTH_RATING', 'MEDIAN_HOME_VALUE',\n",
    "       'MEDIAN_HOUSEHOLD_INCOME', 'PCT_OWNER_OCCUPIED', 'PER_CAPITA_INCOME',\n",
    "       'PCT_ATTRIBUTE1', 'PCT_ATTRIBUTE2', 'PCT_ATTRIBUTE3', 'PCT_ATTRIBUTE4',\n",
    "       'PEP_STAR', 'RECENT_STAR_STATUS', 'RECENCY_STATUS_96NK',\n",
    "       'FREQUENCY_STATUS_97NK', 'RECENT_RESPONSE_PROP', 'RECENT_AVG_GIFT_AMT',\n",
    "       'RECENT_CARD_RESPONSE_PROP', 'RECENT_AVG_CARD_GIFT_AMT',\n",
    "       'RECENT_RESPONSE_COUNT', 'RECENT_CARD_RESPONSE_COUNT',\n",
    "       'MONTHS_SINCE_LAST_PROM_RESP', 'LIFETIME_CARD_PROM', 'LIFETIME_PROM',\n",
    "       'LIFETIME_GIFT_AMOUNT', 'LIFETIME_GIFT_COUNT', 'LIFETIME_AVG_GIFT_AMT',\n",
    "       'LIFETIME_GIFT_RANGE', 'LIFETIME_MAX_GIFT_AMT', 'LIFETIME_MIN_GIFT_AMT',\n",
    "       'LAST_GIFT_AMT', 'CARD_PROM_12', 'NUMBER_PROM_12',\n",
    "       'MONTHS_SINCE_LAST_GIFT', 'MONTHS_SINCE_FIRST_GIFT', 'FILE_AVG_GIFT',\n",
    "       'FILE_CARD_GIFT'"
   ]
  },
  {
   "cell_type": "code",
   "execution_count": null,
   "metadata": {},
   "outputs": [],
   "source": []
  }
 ],
 "metadata": {
  "kernelspec": {
   "display_name": "Python 3",
   "language": "python",
   "name": "python3"
  },
  "language_info": {
   "codemirror_mode": {
    "name": "ipython",
    "version": 3
   },
   "file_extension": ".py",
   "mimetype": "text/x-python",
   "name": "python",
   "nbconvert_exporter": "python",
   "pygments_lexer": "ipython3",
   "version": "3.6.5"
  }
 },
 "nbformat": 4,
 "nbformat_minor": 2
}
